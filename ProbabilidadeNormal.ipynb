{
 "cells": [
  {
   "cell_type": "markdown",
   "metadata": {},
   "source": [
    "# Método da bisseção aplicada ao cálculo de probabilidades\n",
    "\n",
    "Seja $Z \\sim \\mathrm{Normal}(0, 1)$. Dado um valor $p$, queremos saber qual $k$ é tal que:\n",
    "\n",
    "$$P(Z \\le k) = p$$\n",
    "\n",
    "Para isto, um método da bisseção simples será usado. "
   ]
  },
  {
   "cell_type": "code",
   "execution_count": 1,
   "metadata": {
    "collapsed": false
   },
   "outputs": [],
   "source": [
    "import scipy.stats\n",
    "\n",
    "tole = 1e-7\n",
    "prob = 0.99\n",
    "normal = scipy.stats.norm(0, 1)"
   ]
  },
  {
   "cell_type": "code",
   "execution_count": 2,
   "metadata": {
    "collapsed": false
   },
   "outputs": [],
   "source": [
    "def bissect(p=prob, tol=tole):\n",
    "    a = -1\n",
    "    b = 1\n",
    "\n",
    "    while normal.cdf(a) > p: a = a*2\n",
    "    while normal.cdf(b) < p: b = b*2\n",
    "\n",
    "    curr = normal.cdf(b)\n",
    "\n",
    "    cnt = 0\n",
    "    while (cnt < 200):\n",
    "        m = (a+b)/2\n",
    "        if (normal.cdf(m) < p):\n",
    "            a = m\n",
    "        else:\n",
    "            b = m\n",
    "        cnt += 1\n",
    "\n",
    "    return a\n"
   ]
  },
  {
   "cell_type": "code",
   "execution_count": 3,
   "metadata": {
    "collapsed": false
   },
   "outputs": [
    {
     "name": "stdout",
     "output_type": "stream",
     "text": [
      "Probability: 0.1, X = -1.2815515655446006\n",
      "Probability: 0.2, X = -0.8416212335729144\n",
      "Probability: 0.30000000000000004, X = -0.5244005127080408\n",
      "Probability: 0.4, X = -0.25334710313579983\n",
      "Probability: 0.5, X = -6.957291061679418e-17\n",
      "Probability: 0.6, X = 0.2533471031357996\n",
      "Probability: 0.7000000000000001, X = 0.5244005127080408\n",
      "Probability: 0.8, X = 0.841621233572914\n",
      "Probability: 0.9, X = 1.2815515655446004\n",
      "Probability: 0.9, X = 1.2815515655446004\n",
      "Probability: 0.91, X = 1.3407550336902163\n",
      "Probability: 0.92, X = 1.4050715603096327\n",
      "Probability: 0.93, X = 1.4757910281791706\n",
      "Probability: 0.9400000000000001, X = 1.5547735945968535\n",
      "Probability: 0.9500000000000001, X = 1.6448536269514726\n",
      "Probability: 0.96, X = 1.7506860712521688\n",
      "Probability: 0.97, X = 1.8807936081512493\n",
      "Probability: 0.98, X = 2.053748910631821\n",
      "Probability: 0.99, X = 2.3263478740408385\n",
      "Probability: 0.99, X = 2.3263478740408385\n",
      "Probability: 0.991, X = 2.3656181268642897\n",
      "Probability: 0.992, X = 2.408915545815458\n",
      "Probability: 0.993, X = 2.457263390205434\n",
      "Probability: 0.994, X = 2.512144327930457\n",
      "Probability: 0.995, X = 2.575829303548896\n",
      "Probability: 0.996, X = 2.6520698079021905\n",
      "Probability: 0.997, X = 2.7477813854449864\n",
      "Probability: 0.998, X = 2.878161739095474\n",
      "Probability: 0.999, X = 3.0902323061677963\n",
      "Probability: 0.999, X = 3.0902323061677963\n",
      "Probability: 0.9991, X = 3.121389149359843\n",
      "Probability: 0.9992, X = 3.155906757921787\n",
      "Probability: 0.9993, X = 3.194651053763249\n",
      "Probability: 0.9994, X = 3.238880118352929\n",
      "Probability: 0.9994999999999999, X = 3.290526731491832\n",
      "Probability: 0.9996, X = 3.3527947805048206\n",
      "Probability: 0.9997, X = 3.4316144036232488\n",
      "Probability: 0.9998, X = 3.540083799206101\n",
      "Probability: 0.9999, X = 3.7190164854555676\n"
     ]
    }
   ],
   "source": [
    "P = [(0.1*x+0.1, bissect(0.1*x+0.1)) for x in range(9)]\n",
    "P.extend([(0.01*x+0.9, bissect(0.01*x+0.9)) for x in range(10)])\n",
    "P.extend([(0.001*x+0.99, bissect(0.001*x+0.99)) for x in range(10)])\n",
    "P.extend([(0.0001*x+0.999, bissect(0.0001*x+0.999)) for x in range(10)])\n",
    "\n",
    "for p, bis in P:\n",
    "    print('Probability: {}, X = {}'.format(p, bis))"
   ]
  },
  {
   "cell_type": "code",
   "execution_count": 4,
   "metadata": {
    "collapsed": false
   },
   "outputs": [
    {
     "data": {
      "image/png": "[encoded data removed]",
      "text/plain": [
       "<matplotlib.figure.Figure at 0x23b2f98b630>"
      ]
     },
     "metadata": {},
     "output_type": "display_data"
    }
   ],
   "source": [
    "import matplotlib.pyplot as plt\n",
    "plt.plot([pt[1] for pt in P], [pt[0] for pt in P])\n",
    "plt.show()"
   ]
  },
  {
   "cell_type": "code",
   "execution_count": 7,
   "metadata": {
    "collapsed": false
   },
   "outputs": [
    {
     "name": "stdout",
     "output_type": "stream",
     "text": [
      "0.841344746069\n",
      "0.977249868052\n",
      "0.998650101968\n",
      "0.999968328758\n"
     ]
    }
   ],
   "source": [
    "print(normal.cdf(1))\n",
    "print(normal.cdf(2))\n",
    "print(normal.cdf(3))\n",
    "print(normal.cdf(4))"
   ]
  }
 ],
 "metadata": {
  "kernelspec": {
   "display_name": "Python 3",
   "language": "python",
   "name": "python3"
  },
  "language_info": {
   "codemirror_mode": {
    "name": "ipython",
    "version": 3
   },
   "file_extension": ".py",
   "mimetype": "text/x-python",
   "name": "python",
   "nbconvert_exporter": "python",
   "pygments_lexer": "ipython3",
   "version": "3.6.0"
  }
 },
 "nbformat": 4,
 "nbformat_minor": 2
}
